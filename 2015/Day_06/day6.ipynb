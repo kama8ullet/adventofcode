{
 "cells": [
  {
   "cell_type": "markdown",
   "id": "e8be4495-5536-4bc9-8246-a59d9c61e807",
   "metadata": {},
   "source": [
    "# --- Part One ---"
   ]
  },
  {
   "cell_type": "code",
   "execution_count": 2,
   "id": "45a0f536-e9b9-4d7a-8bbf-ec8911c4d7c3",
   "metadata": {},
   "outputs": [
    {
     "name": "stdout",
     "output_type": "stream",
     "text": [
      "569999\n"
     ]
    }
   ],
   "source": [
    "d = 1000\n",
    "m = [[0 for j in range(d)] for i in range(d)]\n",
    "\n",
    "\n",
    "def toggle(pos):\n",
    "    (x, y) = pos\n",
    "\n",
    "    if m[x][y] == 0:\n",
    "        m[x][y] = 1\n",
    "    elif m[x][y] == 1:\n",
    "        m[x][y] = 0\n",
    "\n",
    "\n",
    "def turnOff(pos):\n",
    "    (x, y)  = pos\n",
    "    m[x][y] = 0\n",
    "\n",
    "\n",
    "def turnOn(pos):\n",
    "    (x, y)  = pos\n",
    "    m[x][y] = 1\n",
    "\n",
    "\n",
    "def getRange(s):\n",
    "\n",
    "    tmp = s.split()\n",
    "    tmp = filter(lambda x: \",\" in x, tmp)\n",
    "    tmp = list(map(lambda x: x.split(\",\"), tmp))\n",
    "    tmp = tmp[0] + tmp[1]\n",
    "    tmp = list(map(lambda x: int(x), tmp))\n",
    "        \n",
    "    (a, b) = (tmp[0], tmp[1])\n",
    "    (x, y) = (tmp[2], tmp[3])\n",
    "\n",
    "    result = []\n",
    "\n",
    "    for i in range(a, x + 1):\n",
    "        for j in range(b, y + 1):\n",
    "            result.append((i, j))       \n",
    "    return result\n",
    "\n",
    "\n",
    "with open('input-6.txt') as f:\n",
    "    content = f.readlines()\n",
    "\n",
    "\n",
    "for command in content:\n",
    "    \n",
    "    allPos = getRange(command)\n",
    "    \n",
    "    if command.startswith(\"toggle\"):\n",
    "        list(map(lambda x: toggle(x), allPos))\n",
    "\n",
    "    elif command.startswith(\"turn off\"):\n",
    "        list(map(lambda x: turnOff(x), allPos))\n",
    "\n",
    "    elif command.startswith(\"turn on\"):\n",
    "        list(map(lambda x: turnOn(x), allPos))\n",
    "\n",
    "\n",
    "total = 0\n",
    "\n",
    "for row in m:\n",
    "    total += sum(row)\n",
    "\n",
    "print(total)"
   ]
  },
  {
   "cell_type": "markdown",
   "id": "e6654673-dd14-4daa-85bd-2011d92ccf91",
   "metadata": {},
   "source": [
    "# --- Part Two ---"
   ]
  },
  {
   "cell_type": "code",
   "execution_count": 3,
   "id": "dca3d856-8bbb-4401-8319-4ed95bf4842b",
   "metadata": {},
   "outputs": [
    {
     "name": "stdout",
     "output_type": "stream",
     "text": [
      "17836115\n"
     ]
    }
   ],
   "source": [
    "d = 1000\n",
    "m = [[0 for j in range(d)] for i in range(d)]\n",
    "\n",
    "\n",
    "def toggle(pos):\n",
    "    (x, y)   = pos\n",
    "    m[x][y] += 2\n",
    "\n",
    "\n",
    "def turnOff(pos):\n",
    "    (x, y)  = pos\n",
    "    if m[x][y] != 0:\n",
    "        m[x][y] -= 1\n",
    "\n",
    "\n",
    "def turnOn(pos):\n",
    "    (x, y)   = pos\n",
    "    m[x][y] += 1\n",
    "    \n",
    "with open('input-6.txt') as f:\n",
    "    content = f.readlines()\n",
    "\n",
    "\n",
    "for command in content:\n",
    "    \n",
    "    allPos = getRange(command)\n",
    "    \n",
    "    if command.startswith(\"toggle\"):\n",
    "        list(map(lambda x: toggle(x), allPos))\n",
    "\n",
    "    elif command.startswith(\"turn off\"):\n",
    "        list(map(lambda x: turnOff(x), allPos))\n",
    "\n",
    "    elif command.startswith(\"turn on\"):\n",
    "        list(map(lambda x: turnOn(x), allPos))\n",
    "\n",
    "\n",
    "total = 0\n",
    "\n",
    "for row in m:\n",
    "    total += sum(row)\n",
    "\n",
    "print(total)"
   ]
  },
  {
   "cell_type": "code",
   "execution_count": null,
   "id": "797c7d3c-eb65-4da0-8478-f842e046c52b",
   "metadata": {},
   "outputs": [],
   "source": []
  }
 ],
 "metadata": {
  "kernelspec": {
   "display_name": "Python 3 (ipykernel)",
   "language": "python",
   "name": "python3"
  },
  "language_info": {
   "codemirror_mode": {
    "name": "ipython",
    "version": 3
   },
   "file_extension": ".py",
   "mimetype": "text/x-python",
   "name": "python",
   "nbconvert_exporter": "python",
   "pygments_lexer": "ipython3",
   "version": "3.9.12"
  }
 },
 "nbformat": 4,
 "nbformat_minor": 5
}
