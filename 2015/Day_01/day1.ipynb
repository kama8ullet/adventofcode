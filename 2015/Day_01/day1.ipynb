{
 "cells": [
  {
   "cell_type": "markdown",
   "id": "e8be4495-5536-4bc9-8246-a59d9c61e807",
   "metadata": {},
   "source": [
    "# --- Part One ---"
   ]
  },
  {
   "cell_type": "code",
   "execution_count": 1,
   "id": "45a0f536-e9b9-4d7a-8bbf-ec8911c4d7c3",
   "metadata": {},
   "outputs": [],
   "source": [
    "file = open('input-1.txt', 'r')\n",
    "data = file.read()"
   ]
  },
  {
   "cell_type": "code",
   "execution_count": 2,
   "id": "50472d2a-7117-4250-9452-79d39131964d",
   "metadata": {},
   "outputs": [
    {
     "data": {
      "text/plain": [
       "232"
      ]
     },
     "execution_count": 2,
     "metadata": {},
     "output_type": "execute_result"
    }
   ],
   "source": [
    "floor = 0\n",
    "\n",
    "for c in data:\n",
    "    if c == \"(\":\n",
    "        floor += 1  # floor = floor + 1\n",
    "    # elif c == \")\":\n",
    "    else:\n",
    "        floor -= 1\n",
    "\n",
    "floor"
   ]
  },
  {
   "cell_type": "markdown",
   "id": "e6654673-dd14-4daa-85bd-2011d92ccf91",
   "metadata": {},
   "source": [
    "## --- Part Two ---"
   ]
  },
  {
   "cell_type": "code",
   "execution_count": 3,
   "id": "dca3d856-8bbb-4401-8319-4ed95bf4842b",
   "metadata": {},
   "outputs": [
    {
     "data": {
      "text/plain": [
       "1783"
      ]
     },
     "execution_count": 3,
     "metadata": {},
     "output_type": "execute_result"
    }
   ],
   "source": [
    "floor = 0\n",
    "\n",
    "for i in range(len(data)):\n",
    "    \n",
    "    c = data[i]\n",
    "    if c == \"(\":\n",
    "        floor += 1\n",
    "    elif c == ')':\n",
    "        floor -= 1\n",
    "    \n",
    "    if floor == -1:\n",
    "        stop_i = i + 1\n",
    "        break\n",
    "\n",
    "stop_i"
   ]
  },
  {
   "cell_type": "code",
   "execution_count": null,
   "id": "14c50194-ad66-42cb-bcc3-51796bad54f6",
   "metadata": {},
   "outputs": [],
   "source": []
  }
 ],
 "metadata": {
  "kernelspec": {
   "display_name": "Python 3 (ipykernel)",
   "language": "python",
   "name": "python3"
  },
  "language_info": {
   "codemirror_mode": {
    "name": "ipython",
    "version": 3
   },
   "file_extension": ".py",
   "mimetype": "text/x-python",
   "name": "python",
   "nbconvert_exporter": "python",
   "pygments_lexer": "ipython3",
   "version": "3.9.12"
  }
 },
 "nbformat": 4,
 "nbformat_minor": 5
}
