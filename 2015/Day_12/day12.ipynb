{
 "cells": [
  {
   "cell_type": "markdown",
   "id": "e8be4495-5536-4bc9-8246-a59d9c61e807",
   "metadata": {},
   "source": [
    "# --- Part One ---"
   ]
  },
  {
   "cell_type": "code",
   "execution_count": 1,
   "id": "45a0f536-e9b9-4d7a-8bbf-ec8911c4d7c3",
   "metadata": {},
   "outputs": [],
   "source": [
    "import json\n",
    "from pprint import pprint"
   ]
  },
  {
   "cell_type": "code",
   "execution_count": 2,
   "id": "50472d2a-7117-4250-9452-79d39131964d",
   "metadata": {},
   "outputs": [
    {
     "name": "stdout",
     "output_type": "stream",
     "text": [
      "111754\n"
     ]
    }
   ],
   "source": [
    "total = 0\n",
    "\n",
    "with open('input-12.txt') as data_file:    \n",
    "    data = json.load(data_file)\n",
    "\n",
    "# recursively traverse dictionary\n",
    "def findIntegers(inp):\n",
    "    global total\n",
    "    \n",
    "    if isinstance(inp, dict):\n",
    "        for key in inp.keys():\n",
    "            findIntegers(inp[key])\n",
    "        \n",
    "    elif isinstance(inp, list):\n",
    "        for elem in inp:\n",
    "            findIntegers(elem)\n",
    "\n",
    "    elif isinstance(inp, str):\n",
    "        return\n",
    "        \n",
    "    elif isinstance(inp, int):\n",
    "        total += inp\n",
    "        \n",
    "    else:\n",
    "        print(\"xxx\", type(inp))\n",
    "    \n",
    "    \n",
    "findIntegers(data)\n",
    "\n",
    "print (total)    \n"
   ]
  },
  {
   "cell_type": "markdown",
   "id": "e6654673-dd14-4daa-85bd-2011d92ccf91",
   "metadata": {},
   "source": [
    "# --- Part Two ---"
   ]
  },
  {
   "cell_type": "code",
   "execution_count": 3,
   "id": "dca3d856-8bbb-4401-8319-4ed95bf4842b",
   "metadata": {},
   "outputs": [
    {
     "name": "stdout",
     "output_type": "stream",
     "text": [
      "65402\n"
     ]
    }
   ],
   "source": [
    "total = 0\n",
    "\n",
    "with open('input-12.txt') as data_file:\n",
    "    data = json.load(data_file)\n",
    "\n",
    "# recursively traverse dictionary\n",
    "def findIntegers(inp):\n",
    "    global total\n",
    "\n",
    "    if isinstance(inp, dict):\n",
    "        if not \"red\" in inp.values():\n",
    "            for key in inp.keys():\n",
    "                findIntegers(inp[key])\n",
    "\n",
    "    elif isinstance(inp, list):\n",
    "        for elem in inp:\n",
    "            findIntegers(elem)\n",
    "\n",
    "    elif isinstance(inp, str):\n",
    "        return\n",
    "\n",
    "    elif isinstance(inp, int):\n",
    "        total += inp\n",
    "\n",
    "    else:\n",
    "        print (\"xxx\", type(inp))\n",
    "\n",
    "\n",
    "findIntegers(data)\n",
    "\n",
    "print(total)\n"
   ]
  },
  {
   "cell_type": "code",
   "execution_count": null,
   "id": "90e1c2ba-af6a-43c6-a88c-518f4d67c4f9",
   "metadata": {},
   "outputs": [],
   "source": []
  }
 ],
 "metadata": {
  "kernelspec": {
   "display_name": "Python 3 (ipykernel)",
   "language": "python",
   "name": "python3"
  },
  "language_info": {
   "codemirror_mode": {
    "name": "ipython",
    "version": 3
   },
   "file_extension": ".py",
   "mimetype": "text/x-python",
   "name": "python",
   "nbconvert_exporter": "python",
   "pygments_lexer": "ipython3",
   "version": "3.9.12"
  }
 },
 "nbformat": 4,
 "nbformat_minor": 5
}
