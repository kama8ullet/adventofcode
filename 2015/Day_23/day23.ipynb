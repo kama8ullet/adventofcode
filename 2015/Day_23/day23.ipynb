{
 "cells": [
  {
   "cell_type": "markdown",
   "id": "e8be4495-5536-4bc9-8246-a59d9c61e807",
   "metadata": {},
   "source": [
    "# --- Part One ---"
   ]
  },
  {
   "cell_type": "code",
   "execution_count": 1,
   "id": "50472d2a-7117-4250-9452-79d39131964d",
   "metadata": {},
   "outputs": [
    {
     "name": "stdout",
     "output_type": "stream",
     "text": [
      "307\n"
     ]
    }
   ],
   "source": [
    "with open(\"input-23.txt\") as f:\n",
    "    lines = f.readlines()\n",
    "\n",
    "\n",
    "instructions = []\n",
    "\n",
    "for line in lines:\n",
    "    instructions.append(line.strip())\n",
    "\n",
    "reg = { \"a\": 0\n",
    "      , \"b\": 0 }\n",
    "\n",
    "\n",
    "pos = 0\n",
    "while pos < len(instructions):\n",
    "\n",
    "    val = instructions[pos]\n",
    "\n",
    "    if val.startswith(\"hlf\"):\n",
    "        (_, r)  = val.split()\n",
    "        reg[r]  = reg[r] / 2\n",
    "        pos    += 1\n",
    "\n",
    "    elif val.startswith(\"tpl\"):\n",
    "        (_, r)  = val.split()\n",
    "        reg[r]  = reg[r] * 3\n",
    "        pos    += 1\n",
    "\n",
    "    elif val.startswith(\"inc\"):\n",
    "        (_, r)  = val.split()\n",
    "        reg[r] += 1\n",
    "        pos    += 1\n",
    "\n",
    "    elif val.startswith(\"jmp\"):\n",
    "        (_, n)  = val.split()\n",
    "        pos    += int(n)\n",
    "\n",
    "    elif val.startswith(\"jie\"):\n",
    "        (x, n)  = val.split(\",\")\n",
    "        n       = int(n)\n",
    "        (_, r)  = x.split()\n",
    "\n",
    "        if reg[r] % 2 == 0:\n",
    "            pos += int(n)\n",
    "        else:\n",
    "            pos += 1\n",
    "\n",
    "    elif val.startswith(\"jio\"):\n",
    "        (x, n)  = val.split(\",\")\n",
    "        n = int(n)\n",
    "        (_, r) = x.split()\n",
    "\n",
    "        if reg[r] == 1:\n",
    "            pos += int(n)\n",
    "        else:\n",
    "            pos += 1\n",
    "\n",
    "print (reg[\"b\"])\n"
   ]
  },
  {
   "cell_type": "markdown",
   "id": "e6654673-dd14-4daa-85bd-2011d92ccf91",
   "metadata": {},
   "source": [
    "# --- Part Two ---"
   ]
  },
  {
   "cell_type": "code",
   "execution_count": 2,
   "id": "dca3d856-8bbb-4401-8319-4ed95bf4842b",
   "metadata": {},
   "outputs": [
    {
     "name": "stdout",
     "output_type": "stream",
     "text": [
      "160\n"
     ]
    }
   ],
   "source": [
    "with open(\"input-23.txt\") as f:\n",
    "    lines = f.readlines()\n",
    "\n",
    "\n",
    "instructions = []\n",
    "\n",
    "for line in lines:\n",
    "    instructions.append(line.strip())\n",
    "\n",
    "reg = { \"a\": 1\n",
    "      , \"b\": 0 }\n",
    "\n",
    "\n",
    "pos = 0\n",
    "while pos < len(instructions):\n",
    "\n",
    "    val = instructions[pos]\n",
    "\n",
    "    if val.startswith(\"hlf\"):\n",
    "        (_, r)  = val.split()\n",
    "        reg[r]  = reg[r] / 2\n",
    "        pos    += 1\n",
    "\n",
    "    elif val.startswith(\"tpl\"):\n",
    "        (_, r)  = val.split()\n",
    "        reg[r]  = reg[r] * 3\n",
    "        pos    += 1\n",
    "\n",
    "    elif val.startswith(\"inc\"):\n",
    "        (_, r)  = val.split()\n",
    "        reg[r] += 1\n",
    "        pos    += 1\n",
    "\n",
    "    elif val.startswith(\"jmp\"):\n",
    "        (_, n)  = val.split()\n",
    "        pos    += int(n)\n",
    "\n",
    "    elif val.startswith(\"jie\"):\n",
    "        (x, n)  = val.split(\",\")\n",
    "        n       = int(n)\n",
    "        (_, r)  = x.split()\n",
    "\n",
    "        if reg[r] % 2 == 0:\n",
    "            pos += int(n)\n",
    "        else:\n",
    "            pos += 1\n",
    "\n",
    "    elif val.startswith(\"jio\"):\n",
    "        (x, n)  = val.split(\",\")\n",
    "        n = int(n)\n",
    "        (_, r) = x.split()\n",
    "\n",
    "        if reg[r] == 1:\n",
    "            pos += int(n)\n",
    "        else:\n",
    "            pos += 1\n",
    "\n",
    "print(reg[\"b\"])\n"
   ]
  },
  {
   "cell_type": "code",
   "execution_count": null,
   "id": "90e1c2ba-af6a-43c6-a88c-518f4d67c4f9",
   "metadata": {},
   "outputs": [],
   "source": []
  }
 ],
 "metadata": {
  "kernelspec": {
   "display_name": "Python 3 (ipykernel)",
   "language": "python",
   "name": "python3"
  },
  "language_info": {
   "codemirror_mode": {
    "name": "ipython",
    "version": 3
   },
   "file_extension": ".py",
   "mimetype": "text/x-python",
   "name": "python",
   "nbconvert_exporter": "python",
   "pygments_lexer": "ipython3",
   "version": "3.9.12"
  }
 },
 "nbformat": 4,
 "nbformat_minor": 5
}
