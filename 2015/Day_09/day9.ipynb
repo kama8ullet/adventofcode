{
 "cells": [
  {
   "cell_type": "markdown",
   "id": "e8be4495-5536-4bc9-8246-a59d9c61e807",
   "metadata": {},
   "source": [
    "# --- Part One ---"
   ]
  },
  {
   "cell_type": "code",
   "execution_count": 1,
   "id": "45a0f536-e9b9-4d7a-8bbf-ec8911c4d7c3",
   "metadata": {},
   "outputs": [],
   "source": [
    "from itertools import permutations"
   ]
  },
  {
   "cell_type": "code",
   "execution_count": 2,
   "id": "50472d2a-7117-4250-9452-79d39131964d",
   "metadata": {},
   "outputs": [
    {
     "name": "stdout",
     "output_type": "stream",
     "text": [
      "251 ('Tambi', 'Arbre', 'Snowdin', 'AlphaCentauri', 'Tristram', 'Straylight', 'Faerun', 'Norrath')\n"
     ]
    }
   ],
   "source": [
    "with open('input-9.txt') as f:\n",
    "    lines = f.readlines()\n",
    "\n",
    "distances = dict()\n",
    "\n",
    "for line in lines:\n",
    "    tmp = line.strip().split()\n",
    "    s   = tmp[0]\n",
    "    t   = tmp[2]\n",
    "    d   = int(tmp[4])\n",
    "\n",
    "    if s in distances.keys():\n",
    "        distances[s].append((t, d))\n",
    "    else:\n",
    "        distances[s] = [(t, d)]\n",
    "        \n",
    "    if t in distances.keys():\n",
    "        distances[t].append((s, d))\n",
    "    else:\n",
    "        distances[t] = [(s, d)]\n",
    "    \n",
    "\n",
    "def cost(path):\n",
    "    \n",
    "    total = 0\n",
    "    path  = list(path)\n",
    "    \n",
    "    while len(path) > 1:\n",
    "        head         = path.pop(0)              \n",
    "        destinations = distances[head]\n",
    "\n",
    "        for (d, cost) in destinations:\n",
    "            if d == path[0]:                \n",
    "                total += cost\n",
    "                break\n",
    "        \n",
    "    return total\n",
    "\n",
    "\n",
    "# brute force\n",
    "currentMin = 1000000000  # 'infinity'\n",
    "minPath    = []\n",
    "\n",
    "count = 0\n",
    "for path in permutations(distances.keys()):\n",
    "    tmp = cost(path)\n",
    "    if tmp < currentMin:\n",
    "        currentMin = tmp\n",
    "        minPath    = path\n",
    "\n",
    "print(currentMin, minPath)\n"
   ]
  },
  {
   "cell_type": "markdown",
   "id": "e6654673-dd14-4daa-85bd-2011d92ccf91",
   "metadata": {},
   "source": [
    "# --- Part Two ---"
   ]
  },
  {
   "cell_type": "code",
   "execution_count": 3,
   "id": "dca3d856-8bbb-4401-8319-4ed95bf4842b",
   "metadata": {},
   "outputs": [
    {
     "name": "stdout",
     "output_type": "stream",
     "text": [
      "898 ('Tristram', 'Faerun', 'Arbre', 'Straylight', 'AlphaCentauri', 'Norrath', 'Tambi', 'Snowdin')\n"
     ]
    }
   ],
   "source": [
    "with open('input-9.txt') as f:\n",
    "    lines = f.readlines()\n",
    "\n",
    "distances = dict()\n",
    "\n",
    "for line in lines:\n",
    "    tmp = line.split()\n",
    "    s   = tmp[0]\n",
    "    t   = tmp[2]\n",
    "    d   = int(tmp[4])\n",
    "\n",
    "    if s in distances.keys():\n",
    "        distances[s].append((t, d))\n",
    "    else:\n",
    "        distances[s] = [(t, d)]\n",
    "\n",
    "    if t in distances.keys():\n",
    "        distances[t].append((s, d))\n",
    "    else:\n",
    "        distances[t] = [(s, d)]\n",
    "\n",
    "\n",
    "def cost(path):\n",
    "\n",
    "    total = 0\n",
    "    path  = list(path)\n",
    "\n",
    "    while len(path) > 1:\n",
    "        head         = path.pop(0)\n",
    "        destinations = distances[head]\n",
    "\n",
    "        for (d, cost) in destinations:\n",
    "            if d == path[0]:\n",
    "                total += cost\n",
    "                break\n",
    "\n",
    "    return total\n",
    "\n",
    "\n",
    "# brute force\n",
    "currentMax = 0\n",
    "minPath    = []\n",
    "\n",
    "count = 0\n",
    "for path in permutations(distances.keys()):\n",
    "    tmp = cost(path)\n",
    "    if tmp > currentMax:\n",
    "        currentMax = tmp\n",
    "        minPath    = path\n",
    "\n",
    "print(currentMax, minPath)\n"
   ]
  },
  {
   "cell_type": "code",
   "execution_count": null,
   "id": "90e1c2ba-af6a-43c6-a88c-518f4d67c4f9",
   "metadata": {},
   "outputs": [],
   "source": []
  }
 ],
 "metadata": {
  "kernelspec": {
   "display_name": "Python 3 (ipykernel)",
   "language": "python",
   "name": "python3"
  },
  "language_info": {
   "codemirror_mode": {
    "name": "ipython",
    "version": 3
   },
   "file_extension": ".py",
   "mimetype": "text/x-python",
   "name": "python",
   "nbconvert_exporter": "python",
   "pygments_lexer": "ipython3",
   "version": "3.9.12"
  }
 },
 "nbformat": 4,
 "nbformat_minor": 5
}
