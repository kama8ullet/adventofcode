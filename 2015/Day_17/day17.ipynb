{
 "cells": [
  {
   "cell_type": "markdown",
   "id": "e8be4495-5536-4bc9-8246-a59d9c61e807",
   "metadata": {},
   "source": [
    "# --- Part One ---"
   ]
  },
  {
   "cell_type": "code",
   "execution_count": 1,
   "id": "45a0f536-e9b9-4d7a-8bbf-ec8911c4d7c3",
   "metadata": {},
   "outputs": [],
   "source": [
    "import itertools"
   ]
  },
  {
   "cell_type": "code",
   "execution_count": 2,
   "id": "50472d2a-7117-4250-9452-79d39131964d",
   "metadata": {},
   "outputs": [
    {
     "name": "stdout",
     "output_type": "stream",
     "text": [
      "4372\n"
     ]
    }
   ],
   "source": [
    "SIZE  = 150\n",
    "\n",
    "\n",
    "with open(\"input-17.txt\") as f:\n",
    "    lines = f.readlines()\n",
    "    \n",
    "elems = list(map(lambda x: int(x), lines))\n",
    "count = 0\n",
    "\n",
    "for i in range(0, len(elems) + 1):\n",
    "    for subset in itertools.combinations(elems, i):\n",
    "        if sum(list(subset)) == SIZE:\n",
    "            count += 1\n",
    "\n",
    "print(count)"
   ]
  },
  {
   "cell_type": "markdown",
   "id": "e6654673-dd14-4daa-85bd-2011d92ccf91",
   "metadata": {},
   "source": [
    "# --- Part Two ---"
   ]
  },
  {
   "cell_type": "code",
   "execution_count": 3,
   "id": "dca3d856-8bbb-4401-8319-4ed95bf4842b",
   "metadata": {},
   "outputs": [
    {
     "name": "stdout",
     "output_type": "stream",
     "text": [
      "4\n"
     ]
    }
   ],
   "source": [
    "SIZE  = 150\n",
    "\n",
    "\n",
    "with open(\"input-17.txt\") as f:\n",
    "    lines = f.readlines()\n",
    "\n",
    "elems = list(map(lambda x: int(x), lines))\n",
    "count = dict()\n",
    "\n",
    "for i in range(0, len(elems) + 1):\n",
    "    for subset in itertools.combinations(elems, i):\n",
    "        subset = list(subset)\n",
    "        if sum(subset) == SIZE:\n",
    "\n",
    "            length = len(subset)\n",
    "            if length not in count.keys():\n",
    "                count[length] = 1\n",
    "            else:\n",
    "                count[length] += 1\n",
    "\n",
    "print(count[min(count.keys())])\n"
   ]
  }
 ],
 "metadata": {
  "kernelspec": {
   "display_name": "Python 3 (ipykernel)",
   "language": "python",
   "name": "python3"
  },
  "language_info": {
   "codemirror_mode": {
    "name": "ipython",
    "version": 3
   },
   "file_extension": ".py",
   "mimetype": "text/x-python",
   "name": "python",
   "nbconvert_exporter": "python",
   "pygments_lexer": "ipython3",
   "version": "3.9.12"
  }
 },
 "nbformat": 4,
 "nbformat_minor": 5
}
