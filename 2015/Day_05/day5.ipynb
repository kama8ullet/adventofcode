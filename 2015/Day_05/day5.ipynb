{
 "cells": [
  {
   "cell_type": "markdown",
   "id": "e8be4495-5536-4bc9-8246-a59d9c61e807",
   "metadata": {},
   "source": [
    "# --- Part One ---"
   ]
  },
  {
   "cell_type": "code",
   "execution_count": 1,
   "id": "45a0f536-e9b9-4d7a-8bbf-ec8911c4d7c3",
   "metadata": {},
   "outputs": [],
   "source": [
    "file = open('input-5.txt', 'r')\n",
    "data = file.read()\n",
    "ss = data.strip().split(\"\\n\")"
   ]
  },
  {
   "cell_type": "code",
   "execution_count": 2,
   "id": "50472d2a-7117-4250-9452-79d39131964d",
   "metadata": {},
   "outputs": [],
   "source": [
    "vowels = \"aeiou\""
   ]
  },
  {
   "cell_type": "code",
   "execution_count": 3,
   "id": "996b8a99-3767-4f03-a7e0-d1811813e2de",
   "metadata": {},
   "outputs": [
    {
     "data": {
      "text/plain": [
       "258"
      ]
     },
     "execution_count": 3,
     "metadata": {},
     "output_type": "execute_result"
    }
   ],
   "source": [
    "num_nice = 0\n",
    "\n",
    "for line in ss:\n",
    "    \n",
    "    num_vowels = sum([int(c in vowels) for c in line])\n",
    "    has_passed_rule_1 = num_vowels >= 3\n",
    "\n",
    "    has_passed_rule_2 = any([a == b for a, b in zip(line, line[1:])])\n",
    "    \n",
    "    has_passed_rule_3 = not any([x in line for x in [\"ab\", \"cd\", \"pq\", \"xy\"]])\n",
    "    \n",
    "    is_nice = has_passed_rule_1 and has_passed_rule_2 and has_passed_rule_3\n",
    "    num_nice += int(is_nice)\n",
    "num_nice"
   ]
  },
  {
   "cell_type": "markdown",
   "id": "e6654673-dd14-4daa-85bd-2011d92ccf91",
   "metadata": {},
   "source": [
    "# --- Part Two ---"
   ]
  },
  {
   "cell_type": "code",
   "execution_count": 4,
   "id": "dca3d856-8bbb-4401-8319-4ed95bf4842b",
   "metadata": {},
   "outputs": [
    {
     "data": {
      "text/plain": [
       "53"
      ]
     },
     "execution_count": 4,
     "metadata": {},
     "output_type": "execute_result"
    }
   ],
   "source": [
    "num_nice = 0\n",
    "\n",
    "for line in ss:\n",
    "    \n",
    "    has_passed_rule_1 = False\n",
    "    for i in range(len(line) - 1):\n",
    "        for j in range(i + 2, len(line) - 1):\n",
    "            a, b = line[i:i+2], line[j:j+2]\n",
    "            if a == b:\n",
    "                has_passed_rule_1 = True\n",
    "                break\n",
    "        if has_passed_rule_1:\n",
    "            break\n",
    "    \n",
    "    has_passed_rule_2 = any([line[i] == line[i+2] for i in range(len(line) - 2)])\n",
    "    \n",
    "    num_nice += int(has_passed_rule_1 and has_passed_rule_2)\n",
    "\n",
    "num_nice"
   ]
  }
 ],
 "metadata": {
  "kernelspec": {
   "display_name": "Python 3 (ipykernel)",
   "language": "python",
   "name": "python3"
  },
  "language_info": {
   "codemirror_mode": {
    "name": "ipython",
    "version": 3
   },
   "file_extension": ".py",
   "mimetype": "text/x-python",
   "name": "python",
   "nbconvert_exporter": "python",
   "pygments_lexer": "ipython3",
   "version": "3.9.12"
  }
 },
 "nbformat": 4,
 "nbformat_minor": 5
}
