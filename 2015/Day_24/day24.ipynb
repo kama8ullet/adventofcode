{
 "cells": [
  {
   "cell_type": "markdown",
   "id": "e8be4495-5536-4bc9-8246-a59d9c61e807",
   "metadata": {},
   "source": [
    "# --- Part One ---"
   ]
  },
  {
   "cell_type": "code",
   "execution_count": 1,
   "id": "50472d2a-7117-4250-9452-79d39131964d",
   "metadata": {},
   "outputs": [
    {
     "name": "stdout",
     "output_type": "stream",
     "text": [
      "[71, 73, 83, 89, 97, 103] 11266889531\n"
     ]
    }
   ],
   "source": [
    "with open(\"input-24.txt\") as f:\n",
    "    lines = f.readlines()\n",
    "\n",
    "weights  = list(map(lambda x: int(x), lines))\n",
    "goal     = sum(weights) / 3\n",
    "\n",
    "subSets  = []\n",
    "shortest = 1000\n",
    "\n",
    "# based on:\n",
    "# http://stackoverflow.com/questions/4632322/finding-all-possible-combinations-of-numbers-to-reach-a-given-sum\n",
    "\n",
    "\n",
    "def product(lst):\n",
    "    if len(lst) == 0:\n",
    "        return 1\n",
    "    else:\n",
    "        return lst[0] * product(lst[1:])\n",
    "\n",
    "\n",
    "def subsetSum(numbers, target, partial=[]):\n",
    "    global shortest\n",
    "    global subSets\n",
    "\n",
    "    s = sum(partial)\n",
    "\n",
    "\n",
    "    if s == target:\n",
    "\n",
    "        # retain only shortest partial sums\n",
    "        if len(partial) == shortest:\n",
    "            subSets.append(partial)\n",
    "\n",
    "        elif len(partial) < shortest:\n",
    "            shortest = len(partial)\n",
    "            subSets = []\n",
    "            subSets.append(partial)\n",
    "\n",
    "    if s >= target:\n",
    "        return\n",
    "\n",
    "    for i in range(len(numbers)):\n",
    "        n = numbers[i]\n",
    "        remaining = numbers[i+1:]\n",
    "        subsetSum(remaining, target, partial + [n])\n",
    "\n",
    "\n",
    "subsetSum(weights, goal)\n",
    "\n",
    "choice = []\n",
    "lowest = 9999999999999999999999 # 'infinity'\n",
    "\n",
    "for elem in subSets:\n",
    "    tmp = product(elem)\n",
    "    if tmp < lowest:\n",
    "        choice = elem\n",
    "        lowest = tmp\n",
    "\n",
    "print (elem, lowest)\n"
   ]
  },
  {
   "cell_type": "markdown",
   "id": "e6654673-dd14-4daa-85bd-2011d92ccf91",
   "metadata": {},
   "source": [
    "# --- Part Two ---"
   ]
  },
  {
   "cell_type": "code",
   "execution_count": 2,
   "id": "dca3d856-8bbb-4401-8319-4ed95bf4842b",
   "metadata": {},
   "outputs": [
    {
     "name": "stdout",
     "output_type": "stream",
     "text": [
      "[67, 71, 73, 79, 97] 77387711\n"
     ]
    }
   ],
   "source": [
    "with open(\"input-24.txt\") as f:\n",
    "    lines = f.readlines()\n",
    "\n",
    "weights  = list(map(lambda x: int(x), lines))\n",
    "goal     = sum(weights) / 4\n",
    "\n",
    "subSets  = []\n",
    "shortest = 1000\n",
    "\n",
    "# based on:\n",
    "# http://stackoverflow.com/questions/4632322/finding-all-possible-combinations-of-numbers-to-reach-a-given-sum\n",
    "\n",
    "\n",
    "def product(lst):\n",
    "    if len(lst) == 0:\n",
    "        return 1\n",
    "    else:\n",
    "        return lst[0] * product(lst[1:])\n",
    "\n",
    "\n",
    "def subsetSum(numbers, target, partial=[]):\n",
    "    global shortest\n",
    "    global subSets\n",
    "\n",
    "    s = sum(partial)\n",
    "\n",
    "\n",
    "    if s == target:\n",
    "\n",
    "        # retain only shortest partial sums\n",
    "        if len(partial) == shortest:\n",
    "            subSets.append(partial)\n",
    "\n",
    "        elif len(partial) < shortest:\n",
    "            shortest = len(partial)\n",
    "            subSets = []\n",
    "            subSets.append(partial)\n",
    "\n",
    "    if s >= target:\n",
    "        return\n",
    "\n",
    "    for i in range(len(numbers)):\n",
    "        n = numbers[i]\n",
    "        remaining = numbers[i+1:]\n",
    "        subsetSum(remaining, target, partial + [n])\n",
    "\n",
    "\n",
    "subsetSum(weights, goal)\n",
    "\n",
    "choice = []\n",
    "lowest = 9999999999999999999999 # 'infinity'\n",
    "\n",
    "for elem in subSets:\n",
    "    tmp = product(elem)\n",
    "    if tmp < lowest:\n",
    "        choice = elem\n",
    "        lowest = tmp\n",
    "\n",
    "print (elem, lowest)\n"
   ]
  }
 ],
 "metadata": {
  "kernelspec": {
   "display_name": "Python 3 (ipykernel)",
   "language": "python",
   "name": "python3"
  },
  "language_info": {
   "codemirror_mode": {
    "name": "ipython",
    "version": 3
   },
   "file_extension": ".py",
   "mimetype": "text/x-python",
   "name": "python",
   "nbconvert_exporter": "python",
   "pygments_lexer": "ipython3",
   "version": "3.9.12"
  }
 },
 "nbformat": 4,
 "nbformat_minor": 5
}
