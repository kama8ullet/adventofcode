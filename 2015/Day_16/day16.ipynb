{
 "cells": [
  {
   "cell_type": "markdown",
   "id": "e8be4495-5536-4bc9-8246-a59d9c61e807",
   "metadata": {},
   "source": [
    "# --- Part One ---"
   ]
  },
  {
   "cell_type": "code",
   "execution_count": 1,
   "id": "50472d2a-7117-4250-9452-79d39131964d",
   "metadata": {},
   "outputs": [
    {
     "name": "stdout",
     "output_type": "stream",
     "text": [
      "Sue 40\n"
     ]
    }
   ],
   "source": [
    "with open(\"input-16.txt\") as f:\n",
    "    lines = f.readlines()\n",
    "\n",
    "realSue = { \"children\"    : 3\n",
    "          , \"cats\"        : 7\n",
    "          , \"samoyeds\"    : 2\n",
    "          , \"pomeranians\" : 3\n",
    "          , \"akitas\"      : 0\n",
    "          , \"vizslas\"     : 0\n",
    "          , \"goldfish\"    : 5\n",
    "          , \"trees\"       : 3\n",
    "          , \"cars\"        : 2\n",
    "          , \"perfumes\"    : 1\n",
    "          }\n",
    "\n",
    "keys = realSue.keys()\n",
    "\n",
    "for line in lines:\n",
    "    tmp             = line.split(\",\")\n",
    "    (sue, p1, val1) = tmp[0].split(\":\")\n",
    "    tmp[0]          = p1 + \":\" + val1\n",
    "    match           = True\n",
    "\n",
    "    for i in range(3):\n",
    "        (key, val) = tmp[i].split(\":\")\n",
    "        val        = int(val)\n",
    "        key        = key.strip()\n",
    "\n",
    "        if key in keys:\n",
    "            if not realSue[key] == val:\n",
    "                match = False\n",
    "\n",
    "    # all three attributes match\n",
    "    if match:\n",
    "        print(sue)\n",
    "\n"
   ]
  },
  {
   "cell_type": "markdown",
   "id": "e6654673-dd14-4daa-85bd-2011d92ccf91",
   "metadata": {},
   "source": [
    "# --- Part Two ---"
   ]
  },
  {
   "cell_type": "code",
   "execution_count": 2,
   "id": "dca3d856-8bbb-4401-8319-4ed95bf4842b",
   "metadata": {},
   "outputs": [
    {
     "name": "stdout",
     "output_type": "stream",
     "text": [
      "Sue 241\n"
     ]
    }
   ],
   "source": [
    "with open(\"input-16.txt\") as f:\n",
    "    lines = f.readlines()\n",
    "\n",
    "realSue = { \"children\"    : 3\n",
    "          , \"cats\"        : 7\n",
    "          , \"samoyeds\"    : 2\n",
    "          , \"pomeranians\" : 3\n",
    "          , \"akitas\"      : 0\n",
    "          , \"vizslas\"     : 0\n",
    "          , \"goldfish\"    : 5\n",
    "          , \"trees\"       : 3\n",
    "          , \"cars\"        : 2\n",
    "          , \"perfumes\"    : 1\n",
    "          }\n",
    "\n",
    "keys = realSue.keys()\n",
    "\n",
    "for line in lines:\n",
    "    tmp             = line.split(\",\")\n",
    "    (sue, p1, val1) = tmp[0].split(\":\")\n",
    "    tmp[0]          = p1 + \":\" + val1\n",
    "    match           = True\n",
    "\n",
    "    for i in range(3):\n",
    "        (key, val) = tmp[i].split(\":\")\n",
    "        val        = int(val)\n",
    "        key        = key.strip()\n",
    "\n",
    "        if key in keys:\n",
    "\n",
    "            if key == \"cats\" or key == \"trees\":\n",
    "                if not val > realSue[key]:\n",
    "                    match = False\n",
    "\n",
    "            elif key == \"pomeranians\" or key == \"goldfish\":\n",
    "                if not val < realSue[key]:\n",
    "                    match = False\n",
    "\n",
    "            elif not realSue[key] == val:\n",
    "                match = False\n",
    "\n",
    "    # all three attributes match\n",
    "    if match:\n",
    "        print(sue)\n"
   ]
  },
  {
   "cell_type": "code",
   "execution_count": null,
   "id": "90e1c2ba-af6a-43c6-a88c-518f4d67c4f9",
   "metadata": {},
   "outputs": [],
   "source": []
  }
 ],
 "metadata": {
  "kernelspec": {
   "display_name": "Python 3 (ipykernel)",
   "language": "python",
   "name": "python3"
  },
  "language_info": {
   "codemirror_mode": {
    "name": "ipython",
    "version": 3
   },
   "file_extension": ".py",
   "mimetype": "text/x-python",
   "name": "python",
   "nbconvert_exporter": "python",
   "pygments_lexer": "ipython3",
   "version": "3.9.12"
  }
 },
 "nbformat": 4,
 "nbformat_minor": 5
}
