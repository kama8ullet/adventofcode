{
 "cells": [
  {
   "cell_type": "markdown",
   "id": "e8be4495-5536-4bc9-8246-a59d9c61e807",
   "metadata": {},
   "source": [
    "# --- Part One ---"
   ]
  },
  {
   "cell_type": "code",
   "execution_count": 1,
   "id": "45a0f536-e9b9-4d7a-8bbf-ec8911c4d7c3",
   "metadata": {},
   "outputs": [
    {
     "name": "stdout",
     "output_type": "stream",
     "text": [
      "1342\n"
     ]
    }
   ],
   "source": [
    "with open('input-8.txt') as f:\n",
    "    lines = f.readlines()\n",
    "\n",
    "lines         = list(map(lambda x: x.strip(), lines))\n",
    "\n",
    "allChars      = list(map(lambda x: len(x), lines))\n",
    "inMemoryChars = list(map(lambda x: len(eval(x)), lines))\n",
    "\n",
    "print(sum(allChars) - sum(inMemoryChars))\n"
   ]
  },
  {
   "cell_type": "markdown",
   "id": "e6654673-dd14-4daa-85bd-2011d92ccf91",
   "metadata": {},
   "source": [
    "# --- Part Two ---"
   ]
  },
  {
   "cell_type": "code",
   "execution_count": 2,
   "id": "dca3d856-8bbb-4401-8319-4ed95bf4842b",
   "metadata": {},
   "outputs": [
    {
     "name": "stdout",
     "output_type": "stream",
     "text": [
      "2074\n"
     ]
    }
   ],
   "source": [
    "with open('input-8.txt') as f:\n",
    "    lines = f.readlines()\n",
    "\n",
    "lines        = list(map(lambda x: x.strip(), lines))\n",
    "escapedChars = list(map(lambda x: x.count('\\\\') + x.count('\"') + 2, lines))\n",
    "\n",
    "print(sum(escapedChars))"
   ]
  },
  {
   "cell_type": "code",
   "execution_count": null,
   "id": "17bcf076-f8df-4231-84ec-2d114b6a6267",
   "metadata": {},
   "outputs": [],
   "source": []
  }
 ],
 "metadata": {
  "kernelspec": {
   "display_name": "Python 3 (ipykernel)",
   "language": "python",
   "name": "python3"
  },
  "language_info": {
   "codemirror_mode": {
    "name": "ipython",
    "version": 3
   },
   "file_extension": ".py",
   "mimetype": "text/x-python",
   "name": "python",
   "nbconvert_exporter": "python",
   "pygments_lexer": "ipython3",
   "version": "3.9.12"
  }
 },
 "nbformat": 4,
 "nbformat_minor": 5
}
