{
 "cells": [
  {
   "cell_type": "markdown",
   "id": "e8be4495-5536-4bc9-8246-a59d9c61e807",
   "metadata": {},
   "source": [
    "# --- Part One ---"
   ]
  },
  {
   "cell_type": "code",
   "execution_count": 1,
   "id": "45a0f536-e9b9-4d7a-8bbf-ec8911c4d7c3",
   "metadata": {},
   "outputs": [
    {
     "name": "stdout",
     "output_type": "stream",
     "text": [
      "329356\n"
     ]
    }
   ],
   "source": [
    "num = '3113322113' \n",
    "\n",
    "def transformOne(s):\n",
    "\n",
    "    x     = s[0]\n",
    "    count = 0\n",
    "\n",
    "    for c in s:\n",
    "        if c == x:\n",
    "            count += 1\n",
    "        else:\n",
    "            break\n",
    "\n",
    "    rest = s[count:]\n",
    "\n",
    "    return (str(count) + x, rest)\n",
    "\n",
    "\n",
    "def transformAll(s):\n",
    "\n",
    "    res = \"\"\n",
    "\n",
    "    while not s == \"\":\n",
    "        (x, s) = transformOne(s)\n",
    "        res += x\n",
    "\n",
    "    return res\n",
    "\n",
    "\n",
    "i = 0\n",
    "while i < 40:\n",
    "    num = transformAll(num)\n",
    "    #print(i)\n",
    "    i += 1\n",
    "\n",
    "print(len(num))\n"
   ]
  },
  {
   "cell_type": "markdown",
   "id": "e6654673-dd14-4daa-85bd-2011d92ccf91",
   "metadata": {},
   "source": [
    "# --- Part Two ---"
   ]
  },
  {
   "cell_type": "code",
   "execution_count": 2,
   "id": "dca3d856-8bbb-4401-8319-4ed95bf4842b",
   "metadata": {},
   "outputs": [
    {
     "name": "stdout",
     "output_type": "stream",
     "text": [
      "4666278\n"
     ]
    }
   ],
   "source": [
    "num = '3113322113' \n",
    "\n",
    "def transformOne(s):\n",
    "\n",
    "    x     = s[0]\n",
    "    count = 0\n",
    "\n",
    "    for c in s:\n",
    "        if c == x:\n",
    "            count += 1\n",
    "        else:\n",
    "            break\n",
    "\n",
    "    rest = s[count:]\n",
    "\n",
    "    return (str(count) + x, rest)\n",
    "\n",
    "\n",
    "def transformAll(s):\n",
    "\n",
    "    res = \"\"\n",
    "\n",
    "    while not s == \"\":\n",
    "        (x, s) = transformOne(s)\n",
    "        res += x\n",
    "\n",
    "    return res\n",
    "\n",
    "\n",
    "i = 0\n",
    "while i < 50:\n",
    "    num = transformAll(num)\n",
    "    #print(i)\n",
    "    i += 1\n",
    "\n",
    "print(len(num))\n"
   ]
  }
 ],
 "metadata": {
  "kernelspec": {
   "display_name": "Python 3 (ipykernel)",
   "language": "python",
   "name": "python3"
  },
  "language_info": {
   "codemirror_mode": {
    "name": "ipython",
    "version": 3
   },
   "file_extension": ".py",
   "mimetype": "text/x-python",
   "name": "python",
   "nbconvert_exporter": "python",
   "pygments_lexer": "ipython3",
   "version": "3.9.12"
  }
 },
 "nbformat": 4,
 "nbformat_minor": 5
}
