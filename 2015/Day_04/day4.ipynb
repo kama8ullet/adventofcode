{
 "cells": [
  {
   "cell_type": "markdown",
   "id": "e8be4495-5536-4bc9-8246-a59d9c61e807",
   "metadata": {},
   "source": [
    "# --- Part One ---"
   ]
  },
  {
   "cell_type": "code",
   "execution_count": 1,
   "id": "e5974165-4f8d-44a7-9627-2f13532e56f1",
   "metadata": {},
   "outputs": [],
   "source": [
    "import hashlib"
   ]
  },
  {
   "cell_type": "code",
   "execution_count": 2,
   "id": "45a0f536-e9b9-4d7a-8bbf-ec8911c4d7c3",
   "metadata": {},
   "outputs": [],
   "source": [
    "data = 'iwrupvqb'"
   ]
  },
  {
   "cell_type": "code",
   "execution_count": 3,
   "id": "50472d2a-7117-4250-9452-79d39131964d",
   "metadata": {},
   "outputs": [],
   "source": [
    "def get_hash(s):\n",
    "    return hashlib.md5(s.encode()).hexdigest()"
   ]
  },
  {
   "cell_type": "code",
   "execution_count": 4,
   "id": "fa0f60a4-3996-4ff4-a024-dee7f03cc640",
   "metadata": {},
   "outputs": [
    {
     "name": "stdout",
     "output_type": "stream",
     "text": [
      "346386\n"
     ]
    }
   ],
   "source": [
    "for x in range(1000000):\n",
    "    s = get_hash(f\"iwrupvqb{x}\")\n",
    "    if s.startswith('00000'):\n",
    "        print(x)\n",
    "        break"
   ]
  },
  {
   "cell_type": "code",
   "execution_count": 5,
   "id": "3120c0bc-b236-4c16-aea1-193e2855394e",
   "metadata": {},
   "outputs": [
    {
     "data": {
      "text/plain": [
       "'0000045c5e2b3911eb937d9d8c574f09'"
      ]
     },
     "execution_count": 5,
     "metadata": {},
     "output_type": "execute_result"
    }
   ],
   "source": [
    "hashlib.md5('iwrupvqb346386'.encode()).hexdigest()"
   ]
  },
  {
   "cell_type": "markdown",
   "id": "e6654673-dd14-4daa-85bd-2011d92ccf91",
   "metadata": {},
   "source": [
    "# --- Part Two ---"
   ]
  },
  {
   "cell_type": "markdown",
   "id": "75f01685-a465-42c4-b714-2c0f430fb3a5",
   "metadata": {},
   "source": [
    "Now find one that starts with six zeroes."
   ]
  },
  {
   "cell_type": "code",
   "execution_count": 6,
   "id": "dca3d856-8bbb-4401-8319-4ed95bf4842b",
   "metadata": {},
   "outputs": [
    {
     "name": "stdout",
     "output_type": "stream",
     "text": [
      "9958218\n"
     ]
    }
   ],
   "source": [
    "for x in range(10000000):\n",
    "    s = get_hash(f\"iwrupvqb{x}\")\n",
    "    if s.startswith('000000'):\n",
    "        print(x)\n",
    "        break"
   ]
  },
  {
   "cell_type": "code",
   "execution_count": null,
   "id": "ca484951-3ae5-4ca7-830b-9bbcafb24175",
   "metadata": {},
   "outputs": [],
   "source": []
  }
 ],
 "metadata": {
  "kernelspec": {
   "display_name": "Python 3 (ipykernel)",
   "language": "python",
   "name": "python3"
  },
  "language_info": {
   "codemirror_mode": {
    "name": "ipython",
    "version": 3
   },
   "file_extension": ".py",
   "mimetype": "text/x-python",
   "name": "python",
   "nbconvert_exporter": "python",
   "pygments_lexer": "ipython3",
   "version": "3.9.12"
  }
 },
 "nbformat": 4,
 "nbformat_minor": 5
}
