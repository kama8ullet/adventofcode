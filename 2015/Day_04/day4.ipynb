{
 "cells": [
  {
   "cell_type": "markdown",
   "id": "e8be4495-5536-4bc9-8246-a59d9c61e807",
   "metadata": {},
   "source": [
    "# --- Part One ---"
   ]
  },
  {
   "cell_type": "code",
   "execution_count": 2,
   "id": "45a0f536-e9b9-4d7a-8bbf-ec8911c4d7c3",
   "metadata": {},
   "outputs": [],
   "source": [
    "file = open('input-3.txt', 'r')\n",
    "s = file.read()"
   ]
  },
  {
   "cell_type": "code",
   "execution_count": 3,
   "id": "50472d2a-7117-4250-9452-79d39131964d",
   "metadata": {},
   "outputs": [
    {
     "data": {
      "text/plain": [
       "2565"
      ]
     },
     "execution_count": 3,
     "metadata": {},
     "output_type": "execute_result"
    }
   ],
   "source": [
    "p = (0, 0)\n",
    "visited = { (0, 0) }\n",
    "\n",
    "directions = {\n",
    "    \"^\": (0, 1),\n",
    "    \"v\": (0, -1),\n",
    "    \">\": (1, 0),\n",
    "    \"<\": (-1, 0),\n",
    "}\n",
    "\n",
    "for d in s:\n",
    "    shift = directions[d]\n",
    "    p = (p[0] + shift[0], p[1] + shift[1])\n",
    "    visited.add(p)\n",
    "\n",
    "len(visited)"
   ]
  },
  {
   "cell_type": "markdown",
   "id": "e6654673-dd14-4daa-85bd-2011d92ccf91",
   "metadata": {},
   "source": [
    "# --- Part Two ---"
   ]
  },
  {
   "cell_type": "code",
   "execution_count": 4,
   "id": "dca3d856-8bbb-4401-8319-4ed95bf4842b",
   "metadata": {},
   "outputs": [
    {
     "data": {
      "text/plain": [
       "2639"
      ]
     },
     "execution_count": 4,
     "metadata": {},
     "output_type": "execute_result"
    }
   ],
   "source": [
    "p_santa = (0, 0)\n",
    "p_fake_santa = (0, 0)\n",
    "visited_santas = { (0, 0) }\n",
    "\n",
    "\n",
    "directions = {\n",
    "    \"^\": (0, 1),\n",
    "    \"v\": (0, -1),\n",
    "    \">\": (1, 0),\n",
    "    \"<\": (-1, 0),\n",
    "}\n",
    "\n",
    "for d in range(len(s)):\n",
    "    if d % 2 == 0:\n",
    "        shift = directions[s[d]]\n",
    "        p_santa = (p_santa[0] + shift[0], p_santa[1] + shift[1])\n",
    "        visited_santas.add(p_santa)\n",
    "    else:\n",
    "        shift = directions[s[d]]\n",
    "        p_fake_santa = (p_fake_santa[0] + shift[0], p_fake_santa[1] + shift[1])\n",
    "        visited_santas.add(p_fake_santa)\n",
    "        \n",
    "\n",
    "len(visited_santas)"
   ]
  }
 ],
 "metadata": {
  "kernelspec": {
   "display_name": "Python 3 (ipykernel)",
   "language": "python",
   "name": "python3"
  },
  "language_info": {
   "codemirror_mode": {
    "name": "ipython",
    "version": 3
   },
   "file_extension": ".py",
   "mimetype": "text/x-python",
   "name": "python",
   "nbconvert_exporter": "python",
   "pygments_lexer": "ipython3",
   "version": "3.9.12"
  }
 },
 "nbformat": 4,
 "nbformat_minor": 5
}
