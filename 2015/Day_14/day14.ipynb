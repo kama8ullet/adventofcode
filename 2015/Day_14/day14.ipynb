{
 "cells": [
  {
   "cell_type": "markdown",
   "id": "e8be4495-5536-4bc9-8246-a59d9c61e807",
   "metadata": {},
   "source": [
    "# --- Part One ---"
   ]
  },
  {
   "cell_type": "code",
   "execution_count": 3,
   "id": "703e566a-65cc-405a-9487-b8b2baff8052",
   "metadata": {},
   "outputs": [],
   "source": [
    "import re"
   ]
  },
  {
   "cell_type": "code",
   "execution_count": 7,
   "id": "50472d2a-7117-4250-9452-79d39131964d",
   "metadata": {},
   "outputs": [
    {
     "name": "stdout",
     "output_type": "stream",
     "text": [
      "2640\n"
     ]
    }
   ],
   "source": [
    "with open(\"input-14.txt\") as f:\n",
    "    lines = f.readlines()\n",
    "\n",
    "vals = []\n",
    "\n",
    "for line in lines:\n",
    "    tmp      = line.split()\n",
    "    #name     = tmp[0]\n",
    "    speed    = int(tmp[3])\n",
    "    flyTime  = int(tmp[6])\n",
    "    restTime = int(tmp[13])\n",
    "\n",
    "    vals.append((speed, flyTime, restTime))\n",
    "\n",
    "\n",
    "def getDistance(specs, command, remaining, acc):\n",
    "\n",
    "    (speed, flyTime, restTime) = specs\n",
    "\n",
    "    if command == \"fly\":\n",
    "        if remaining <= flyTime:\n",
    "            return acc + (remaining * speed)\n",
    "        else:\n",
    "            return getDistance(specs, \"rest\", remaining - flyTime, acc + (speed * flyTime))\n",
    "\n",
    "    elif command == \"rest\":\n",
    "        if remaining <= restTime:\n",
    "            return acc\n",
    "        else:\n",
    "            return getDistance(specs, \"fly\", remaining - restTime, acc)\n",
    "\n",
    "\n",
    "best = 0\n",
    "\n",
    "for specs in vals:\n",
    "    tmp = getDistance(specs, \"fly\", 2503, 0)\n",
    "    if tmp > best:\n",
    "        best = tmp\n",
    "\n",
    "print(best)\n"
   ]
  },
  {
   "cell_type": "markdown",
   "id": "e6654673-dd14-4daa-85bd-2011d92ccf91",
   "metadata": {},
   "source": [
    "# --- Part Two ---"
   ]
  },
  {
   "cell_type": "code",
   "execution_count": 8,
   "id": "dca3d856-8bbb-4401-8319-4ed95bf4842b",
   "metadata": {},
   "outputs": [
    {
     "name": "stdout",
     "output_type": "stream",
     "text": [
      "1102\n"
     ]
    }
   ],
   "source": [
    "with open('input-14.txt') as f:\n",
    "    content = f.readlines()\n",
    "\n",
    "reindeers = list()\n",
    "for line in content:\n",
    "    result = re.match('(.*) can fly (\\d+) km/s for (\\d+) seconds, but then must rest for (\\d+) seconds.', line)\n",
    "    reindeers.append(result.groups())\n",
    "\n",
    "statuses = [('flying', 0, 0, 0) for _ in reindeers]\n",
    "\n",
    "max_t = 2503\n",
    "t = 0\n",
    "while t < max_t:\n",
    "    for i in range(len(reindeers)):\n",
    "        reindeer = reindeers[i]\n",
    "        status = statuses[i]\n",
    "        if status[0] == 'flying':\n",
    "            if status[1] >= int(reindeer[2]):\n",
    "                status = ('resting', 1, status[2], status[3])\n",
    "            else:\n",
    "                status = ('flying', status[1] + 1, status[2] + int(reindeer[1]), status[3])\n",
    "        else:\n",
    "            if status[1] >= int(reindeer[3]):\n",
    "                status = ('flying', 1, status[2] + int(reindeer[1]), status[3])\n",
    "            else:\n",
    "                status = ('resting', status[1] + 1, status[2], status[3])\n",
    "        statuses[i] = status\n",
    "    best = max([status[2] for status in statuses])\n",
    "    all_best = [i for i in range(len(statuses)) if statuses[i][2] == best]\n",
    "    for i in all_best:\n",
    "        statuses[i] = (statuses[i][0],statuses[i][1],  statuses[i][2], statuses[i][3] + 1)\n",
    "    t += 1\n",
    "\n",
    "best = max([status[2] for status in statuses])\n",
    "best_points = max([status[3] for status in statuses])\n",
    "\n",
    "print(best_points)"
   ]
  }
 ],
 "metadata": {
  "kernelspec": {
   "display_name": "Python 3 (ipykernel)",
   "language": "python",
   "name": "python3"
  },
  "language_info": {
   "codemirror_mode": {
    "name": "ipython",
    "version": 3
   },
   "file_extension": ".py",
   "mimetype": "text/x-python",
   "name": "python",
   "nbconvert_exporter": "python",
   "pygments_lexer": "ipython3",
   "version": "3.9.12"
  }
 },
 "nbformat": 4,
 "nbformat_minor": 5
}
