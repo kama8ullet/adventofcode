{
 "cells": [
  {
   "cell_type": "markdown",
   "id": "e8be4495-5536-4bc9-8246-a59d9c61e807",
   "metadata": {},
   "source": [
    "# --- Part One ---"
   ]
  },
  {
   "cell_type": "code",
   "execution_count": 2,
   "id": "45a0f536-e9b9-4d7a-8bbf-ec8911c4d7c3",
   "metadata": {},
   "outputs": [],
   "source": [
    "import copy"
   ]
  },
  {
   "cell_type": "code",
   "execution_count": 3,
   "id": "50472d2a-7117-4250-9452-79d39131964d",
   "metadata": {},
   "outputs": [
    {
     "name": "stdout",
     "output_type": "stream",
     "text": [
      "1000\n",
      "2000\n",
      "3000\n",
      "4000\n",
      "5000\n",
      "6000\n",
      "7000\n",
      "8000\n",
      "9000\n",
      "19980801\n"
     ]
    }
   ],
   "source": [
    "with open(\"input-25.txt\") as f:\n",
    "    lines = f.readlines()\n",
    "\n",
    "line = lines[0].split()\n",
    "y = int(line[-1][:-1])\n",
    "x = int(line[-3][:-1])\n",
    "\n",
    "N   = 10000\n",
    "row = [0] * N\n",
    "m   = [copy.deepcopy(row) for i in range(N)]\n",
    "\n",
    "\n",
    "def fillDiagonal(pos_x):\n",
    "    pos_y = 0\n",
    "\n",
    "    val = (m[0][pos_x - 1] * 252533) % 33554393\n",
    "\n",
    "    while pos_x >= 0:\n",
    "        m[pos_x][pos_y]  = val\n",
    "        pos_x            = pos_x - 1\n",
    "        pos_y            = pos_y + 1\n",
    "        val = (val * 252533) % 33554393\n",
    "\n",
    "\n",
    "m[0][0] = 20151125\n",
    "\n",
    "for i in range(1, N):\n",
    "    if i % 1000 == 0:\n",
    "        print (i)\n",
    "    fillDiagonal(i)\n",
    "\n",
    "\n",
    "print(m[x - 1][y - 1])"
   ]
  }
 ],
 "metadata": {
  "kernelspec": {
   "display_name": "Python 3 (ipykernel)",
   "language": "python",
   "name": "python3"
  },
  "language_info": {
   "codemirror_mode": {
    "name": "ipython",
    "version": 3
   },
   "file_extension": ".py",
   "mimetype": "text/x-python",
   "name": "python",
   "nbconvert_exporter": "python",
   "pygments_lexer": "ipython3",
   "version": "3.9.12"
  }
 },
 "nbformat": 4,
 "nbformat_minor": 5
}
