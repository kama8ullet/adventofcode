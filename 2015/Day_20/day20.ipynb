{
 "cells": [
  {
   "cell_type": "markdown",
   "id": "e8be4495-5536-4bc9-8246-a59d9c61e807",
   "metadata": {},
   "source": [
    "# --- Part One ---"
   ]
  },
  {
   "cell_type": "code",
   "execution_count": 1,
   "id": "50472d2a-7117-4250-9452-79d39131964d",
   "metadata": {},
   "outputs": [
    {
     "name": "stdout",
     "output_type": "stream",
     "text": [
      "831600\n"
     ]
    }
   ],
   "source": [
    "target = 36000000\n",
    "limit  = 1000000\n",
    "arr    = [ 0 for i in range(limit + 1)]\n",
    "\n",
    "i = 1\n",
    "while True:\n",
    "\n",
    "    if i > limit:\n",
    "        break\n",
    "\n",
    "    j = i\n",
    "    while j < limit + 1:\n",
    "        arr[j] += i * 10\n",
    "        j      += i\n",
    "\n",
    "    i += 1\n",
    "\n",
    "\n",
    "for idx in range(len(arr)):\n",
    "    if arr[idx] >= target:\n",
    "        print (idx)\n",
    "        break"
   ]
  },
  {
   "cell_type": "markdown",
   "id": "e6654673-dd14-4daa-85bd-2011d92ccf91",
   "metadata": {},
   "source": [
    "# --- Part Two ---"
   ]
  },
  {
   "cell_type": "code",
   "execution_count": 3,
   "id": "dca3d856-8bbb-4401-8319-4ed95bf4842b",
   "metadata": {},
   "outputs": [
    {
     "name": "stdout",
     "output_type": "stream",
     "text": [
      "884520\n"
     ]
    }
   ],
   "source": [
    "target = 36000000\n",
    "limit  = 1000000\n",
    "arr    = [ 0 for i in range(limit + 1)]\n",
    "\n",
    "i = 1\n",
    "while True:\n",
    "\n",
    "    if i > limit:\n",
    "        break\n",
    "\n",
    "    j         = i\n",
    "    delivered = 0\n",
    "\n",
    "    while j < limit + 1:\n",
    "\n",
    "        if delivered >= 50:\n",
    "            break\n",
    "\n",
    "        arr[j]    += i * 11\n",
    "        j         += i\n",
    "        delivered += 1\n",
    "\n",
    "    i += 1\n",
    "\n",
    "\n",
    "for idx in range(len(arr)):\n",
    "    if arr[idx] >= target:\n",
    "        print (idx)\n",
    "        break"
   ]
  },
  {
   "cell_type": "code",
   "execution_count": null,
   "id": "90e1c2ba-af6a-43c6-a88c-518f4d67c4f9",
   "metadata": {},
   "outputs": [],
   "source": []
  }
 ],
 "metadata": {
  "kernelspec": {
   "display_name": "Python 3 (ipykernel)",
   "language": "python",
   "name": "python3"
  },
  "language_info": {
   "codemirror_mode": {
    "name": "ipython",
    "version": 3
   },
   "file_extension": ".py",
   "mimetype": "text/x-python",
   "name": "python",
   "nbconvert_exporter": "python",
   "pygments_lexer": "ipython3",
   "version": "3.9.12"
  }
 },
 "nbformat": 4,
 "nbformat_minor": 5
}
