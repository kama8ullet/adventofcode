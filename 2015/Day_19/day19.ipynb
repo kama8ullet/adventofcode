{
 "cells": [
  {
   "cell_type": "markdown",
   "id": "e8be4495-5536-4bc9-8246-a59d9c61e807",
   "metadata": {},
   "source": [
    "# --- Part One ---"
   ]
  },
  {
   "cell_type": "code",
   "execution_count": 1,
   "id": "50472d2a-7117-4250-9452-79d39131964d",
   "metadata": {},
   "outputs": [
    {
     "name": "stdout",
     "output_type": "stream",
     "text": [
      "509\n"
     ]
    }
   ],
   "source": [
    "with open(\"input-19.txt\") as f:\n",
    "    lines = f.readlines()\n",
    "\n",
    "\n",
    "replace = []\n",
    "target  = lines[-1].strip()\n",
    "output  = set()\n",
    "\n",
    "for line in lines:\n",
    "    if \"=>\" in line:\n",
    "        (a, b) = line.split(\"=>\")\n",
    "        a      = a.split()[0]\n",
    "        b      = b.split()[0]\n",
    "        replace.append((a, b))\n",
    "\n",
    "\n",
    "def substitute(string, pos, s, t):\n",
    "    return string[:pos] + t + string[pos + len(s):]\n",
    "\n",
    "\n",
    "def replaceAll(subst, pos, firstRun):\n",
    "\n",
    "    (s, t)  = subst\n",
    "    tmp     = target\n",
    "\n",
    "    if firstRun:\n",
    "        pos = tmp.find(s, 0)\n",
    "\n",
    "    if pos == -1:\n",
    "        return\n",
    "\n",
    "    res     = substitute(tmp, pos, s, t)\n",
    "    output.add(res)\n",
    "\n",
    "    nextPos = tmp.find(s, pos + 1)\n",
    "\n",
    "    return replaceAll(subst, nextPos, False)\n",
    "\n",
    "\n",
    "for subst in replace:\n",
    "    replaceAll(subst, 0, True)\n",
    "\n",
    "\n",
    "print(len(output))\n"
   ]
  },
  {
   "cell_type": "markdown",
   "id": "e6654673-dd14-4daa-85bd-2011d92ccf91",
   "metadata": {},
   "source": [
    "# --- Part Two ---"
   ]
  },
  {
   "cell_type": "code",
   "execution_count": 2,
   "id": "dca3d856-8bbb-4401-8319-4ed95bf4842b",
   "metadata": {},
   "outputs": [
    {
     "name": "stdout",
     "output_type": "stream",
     "text": [
      "195\n"
     ]
    }
   ],
   "source": [
    "import collections\n",
    "\n",
    "\n",
    "def get_source_molecules(string, position, replacements):\n",
    "    \n",
    "    results = set()\n",
    "    for replacement in replacements:\n",
    "        source = string[i:i + len(replacement)]\n",
    "        if source == replacement:\n",
    "            for output in replacements[replacement]:\n",
    "                results.add(string[:position] + output + string[position + len(replacement):])\n",
    "    return results\n",
    "\n",
    "\n",
    "reverse_replacements = collections.defaultdict(list)\n",
    "molecules = set()\n",
    "\n",
    "with open(\"input-19.txt\") as f:\n",
    "    input_list = f.read().splitlines()\n",
    "for input_line in input_list[:-2]:\n",
    "    from_molecule, to_molecule = input_line.split(\" => \")\n",
    "    reverse_replacements[to_molecule].append(from_molecule)\n",
    "target_string = input_list[-1]\n",
    "\n",
    "created_molecules = set()\n",
    "created_molecules.add(target_string)\n",
    "steps = 0\n",
    "\n",
    "while \"e\" not in created_molecules:\n",
    "    previous_molecules = set()\n",
    "    for molecule in created_molecules:\n",
    "        for i in range(len(molecule)):\n",
    "            for new_molecule in get_source_molecules(molecule, i, reverse_replacements):\n",
    "                previous_molecules.add(new_molecule)\n",
    "    created_molecules = set(sorted(list(previous_molecules), key=len)[:10])\n",
    "    steps += 1\n",
    "\n",
    "print(steps)"
   ]
  },
  {
   "cell_type": "code",
   "execution_count": null,
   "id": "90e1c2ba-af6a-43c6-a88c-518f4d67c4f9",
   "metadata": {},
   "outputs": [],
   "source": []
  }
 ],
 "metadata": {
  "kernelspec": {
   "display_name": "Python 3 (ipykernel)",
   "language": "python",
   "name": "python3"
  },
  "language_info": {
   "codemirror_mode": {
    "name": "ipython",
    "version": 3
   },
   "file_extension": ".py",
   "mimetype": "text/x-python",
   "name": "python",
   "nbconvert_exporter": "python",
   "pygments_lexer": "ipython3",
   "version": "3.9.12"
  }
 },
 "nbformat": 4,
 "nbformat_minor": 5
}
