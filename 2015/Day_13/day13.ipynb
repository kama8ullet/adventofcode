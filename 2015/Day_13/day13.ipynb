{
 "cells": [
  {
   "cell_type": "markdown",
   "id": "e8be4495-5536-4bc9-8246-a59d9c61e807",
   "metadata": {},
   "source": [
    "# --- Part One ---"
   ]
  },
  {
   "cell_type": "code",
   "execution_count": 1,
   "id": "45a0f536-e9b9-4d7a-8bbf-ec8911c4d7c3",
   "metadata": {},
   "outputs": [],
   "source": [
    "from itertools import permutations"
   ]
  },
  {
   "cell_type": "code",
   "execution_count": 2,
   "id": "50472d2a-7117-4250-9452-79d39131964d",
   "metadata": {},
   "outputs": [
    {
     "name": "stdout",
     "output_type": "stream",
     "text": [
      "664\n"
     ]
    }
   ],
   "source": [
    "with open('input-13.txt') as f:\n",
    "    lines = f.readlines()\n",
    "\n",
    "valDict = dict()\n",
    "\n",
    "\n",
    "for line in lines:\n",
    "    tmp = line.split()\n",
    "\n",
    "    key    = tmp[0]\n",
    "    op     = tmp[2]\n",
    "    val    = int(tmp[3])\n",
    "    nextTo = tmp[-1][:-1]\n",
    "\n",
    "    if op == \"lose\":\n",
    "        val = -val\n",
    "        \n",
    "    if key in valDict.keys():\n",
    "        valDict[key].append((nextTo, val))\n",
    "    else:\n",
    "        valDict[key] = [(nextTo, val)]\n",
    "\n",
    "\n",
    "def getNeighbours(lst, x):\n",
    "    assert isinstance(lst, list)\n",
    "    assert isinstance(x,   str )\n",
    "\n",
    "    pos = lst.index(x)\n",
    "\n",
    "    if pos == 0:\n",
    "        return (lst[pos + 1], lst[-1])\n",
    "    elif pos == len(lst) - 1:\n",
    "        return (lst[pos - 1], lst[0])\n",
    "    else:\n",
    "        return (lst[pos - 1], lst[pos + 1])\n",
    "\n",
    "\n",
    "def getVal(x, neighbour):\n",
    "\n",
    "    vals = valDict[x]\n",
    "\n",
    "    for (y, val) in vals:\n",
    "        if (y == neighbour):\n",
    "            return val\n",
    "\n",
    "\n",
    "def getSum(arrangement):\n",
    "\n",
    "    total = 0\n",
    "\n",
    "    for x in arrangement:\n",
    "        (a, b) = getNeighbours(list(arrangement), x)\n",
    "        total += getVal(x, a)\n",
    "        total += getVal(x, b)\n",
    "\n",
    "    return total\n",
    "\n",
    "\n",
    "allGuests = valDict.keys()\n",
    "maxVal    = -1000000000 # 'infinity'\n",
    "\n",
    "for arrangement in permutations(allGuests):\n",
    "    val = getSum(arrangement)\n",
    "    if val > maxVal:\n",
    "        maxVal = val\n",
    "\n",
    "print(maxVal)\n"
   ]
  },
  {
   "cell_type": "markdown",
   "id": "e6654673-dd14-4daa-85bd-2011d92ccf91",
   "metadata": {},
   "source": [
    "# --- Part Two ---"
   ]
  },
  {
   "cell_type": "code",
   "execution_count": 3,
   "id": "dca3d856-8bbb-4401-8319-4ed95bf4842b",
   "metadata": {},
   "outputs": [
    {
     "name": "stdout",
     "output_type": "stream",
     "text": [
      "640\n"
     ]
    }
   ],
   "source": [
    "with open('input-13.txt') as f:\n",
    "    lines = f.readlines()\n",
    "\n",
    "valDict = dict()\n",
    "\n",
    "\n",
    "for line in lines:\n",
    "    tmp = line.split()\n",
    "\n",
    "    key    = tmp[0]\n",
    "    op     = tmp[2]\n",
    "    val    = int(tmp[3])\n",
    "    nextTo = tmp[-1][:-1]\n",
    "\n",
    "    if op == \"lose\":\n",
    "        val = -val\n",
    "\n",
    "    if key in valDict.keys():\n",
    "        valDict[key].append((nextTo, val))\n",
    "    else:\n",
    "        valDict[key] = [(nextTo, val)]\n",
    "\n",
    "\n",
    "others        = valDict.keys()\n",
    "valDict[\"Me\"] = []\n",
    "\n",
    "for x in others:\n",
    "    valDict[x].append((\"Me\", 0))\n",
    "    valDict[\"Me\"].append((x, 0))\n",
    "\n",
    "\n",
    "def getNeighbours(lst, x):\n",
    "    assert isinstance(lst, list)\n",
    "    assert isinstance(x,   str )\n",
    "\n",
    "    pos = lst.index(x)\n",
    "\n",
    "    if pos == 0:\n",
    "        return (lst[pos + 1], lst[-1])\n",
    "    elif pos == len(lst) - 1:\n",
    "        return (lst[pos - 1], lst[0])\n",
    "    else:\n",
    "        return (lst[pos - 1], lst[pos + 1])\n",
    "\n",
    "\n",
    "def getVal(x, neighbour):\n",
    "\n",
    "    vals = valDict[x]\n",
    "\n",
    "    for (y, val) in vals:\n",
    "        if (y == neighbour):\n",
    "            return val\n",
    "\n",
    "\n",
    "def getSum(arrangement):\n",
    "\n",
    "    total = 0\n",
    "\n",
    "    for x in arrangement:\n",
    "        (a, b) = getNeighbours(list(arrangement), x)\n",
    "        total += getVal(x, a)\n",
    "        total += getVal(x, b)\n",
    "\n",
    "    return total\n",
    "\n",
    "\n",
    "allGuests = valDict.keys()\n",
    "maxVal    = -1000000000 # '-infinity'\n",
    "\n",
    "for arrangement in permutations(allGuests):\n",
    "    val = getSum(arrangement)\n",
    "    if val > maxVal:\n",
    "        maxVal = val\n",
    "\n",
    "print(maxVal)\n"
   ]
  },
  {
   "cell_type": "code",
   "execution_count": null,
   "id": "90e1c2ba-af6a-43c6-a88c-518f4d67c4f9",
   "metadata": {},
   "outputs": [],
   "source": []
  }
 ],
 "metadata": {
  "kernelspec": {
   "display_name": "Python 3 (ipykernel)",
   "language": "python",
   "name": "python3"
  },
  "language_info": {
   "codemirror_mode": {
    "name": "ipython",
    "version": 3
   },
   "file_extension": ".py",
   "mimetype": "text/x-python",
   "name": "python",
   "nbconvert_exporter": "python",
   "pygments_lexer": "ipython3",
   "version": "3.9.12"
  }
 },
 "nbformat": 4,
 "nbformat_minor": 5
}
