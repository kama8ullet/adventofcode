{
 "cells": [
  {
   "cell_type": "markdown",
   "id": "e8be4495-5536-4bc9-8246-a59d9c61e807",
   "metadata": {},
   "source": [
    "# --- Part One ---"
   ]
  },
  {
   "cell_type": "code",
   "execution_count": 1,
   "id": "50472d2a-7117-4250-9452-79d39131964d",
   "metadata": {},
   "outputs": [],
   "source": [
    "from copy import deepcopy\n",
    "\n",
    "start = [[0 if c == '.' else 1 for c in line.strip()] \n",
    "         for line in open('input-18.txt')]\n",
    "\n",
    "def count_on(r, c, grid):\n",
    "    rm1, cm1, rp1, cp1 = r-1, c-1, r+1, c+1\n",
    "    nw = grid[rm1][cm1] if rm1 >= 0 and cm1 >= 0 else 0\n",
    "    n = grid[rm1][c] if rm1 >= 0 else 0\n",
    "    ne = grid[rm1][cp1] if rm1 >= 0 and cp1 < 100 else 0\n",
    "\n",
    "    sw = grid[rp1][cm1] if rp1 < 100 and cm1 >= 0 else 0\n",
    "    s = grid[rp1][c] if rp1 < 100 else 0\n",
    "    se = grid[rp1][cp1] if rp1 < 100 and cp1 < 100 else 0\n",
    "\n",
    "    w = grid[r][cm1] if cm1 >= 0 else 0\n",
    "    e = grid[r][cp1] if cp1 < 100 else 0\n",
    "\n",
    "    return nw + n + ne + sw + s + se + w + e\n",
    "\n",
    "def day18_part1():\n",
    "    grid, next_grid = deepcopy(start), deepcopy(start)\n",
    "    for i in range(100):\n",
    "        for r in range(100):\n",
    "            for c in range(100):\n",
    "                on_neighbors = count_on(r, c, grid)\n",
    "                val = grid[r][c]\n",
    "                if val == 0 and on_neighbors == 3:\n",
    "                    next_grid[r][c] = 1\n",
    "                elif val == 1 and on_neighbors not in (2, 3):\n",
    "                    next_grid[r][c] = 0\n",
    "                else:\n",
    "                    next_grid[r][c] = grid[r][c]\n",
    "        grid, next_grid = next_grid, grid\n",
    "\n",
    "    print(sum(row.count(1) for row in grid))\n"
   ]
  },
  {
   "cell_type": "code",
   "execution_count": 2,
   "id": "f9ef06db-8e61-4d7a-a662-d7787e7d7d39",
   "metadata": {},
   "outputs": [
    {
     "name": "stdout",
     "output_type": "stream",
     "text": [
      "1061\n"
     ]
    }
   ],
   "source": [
    "day18_part1()"
   ]
  },
  {
   "cell_type": "markdown",
   "id": "e6654673-dd14-4daa-85bd-2011d92ccf91",
   "metadata": {},
   "source": [
    "# --- Part Two ---"
   ]
  },
  {
   "cell_type": "code",
   "execution_count": 3,
   "id": "dca3d856-8bbb-4401-8319-4ed95bf4842b",
   "metadata": {},
   "outputs": [],
   "source": [
    "def day18_part2():\n",
    "    grid, next_grid = deepcopy(start), deepcopy(start)\n",
    "    grid[0][0], grid[0][99], grid[99][0], grid[99][99] = 1, 1, 1, 1\n",
    "    for i in range(100):\n",
    "        for r in range(100):\n",
    "            for c in range(100):\n",
    "                next_grid[r][c] = grid[r][c]\n",
    "                on_neighbors = count_on(r, c, grid)\n",
    "                if grid[r][c] == 0 and on_neighbors == 3:\n",
    "                    next_grid[r][c] = 1\n",
    "                elif grid[r][c] == 1 and on_neighbors not in (2, 3):\n",
    "                    next_grid[r][c] = 0\n",
    "        grid, next_grid = next_grid, grid\n",
    "        grid[0][0], grid[0][99], grid[99][0], grid[99][99] = 1, 1, 1, 1\n",
    "\n",
    "    print(sum(row.count(1) for row in grid))"
   ]
  },
  {
   "cell_type": "code",
   "execution_count": 4,
   "id": "90e1c2ba-af6a-43c6-a88c-518f4d67c4f9",
   "metadata": {},
   "outputs": [
    {
     "name": "stdout",
     "output_type": "stream",
     "text": [
      "1006\n"
     ]
    }
   ],
   "source": [
    "day18_part2()"
   ]
  }
 ],
 "metadata": {
  "kernelspec": {
   "display_name": "Python 3 (ipykernel)",
   "language": "python",
   "name": "python3"
  },
  "language_info": {
   "codemirror_mode": {
    "name": "ipython",
    "version": 3
   },
   "file_extension": ".py",
   "mimetype": "text/x-python",
   "name": "python",
   "nbconvert_exporter": "python",
   "pygments_lexer": "ipython3",
   "version": "3.9.12"
  }
 },
 "nbformat": 4,
 "nbformat_minor": 5
}
